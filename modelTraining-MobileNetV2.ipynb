{
 "cells": [
  {
   "cell_type": "code",
   "execution_count": 1,
   "id": "393ec990",
   "metadata": {},
   "outputs": [],
   "source": [
    "import tensorflow as tf\n",
    "from tensorflow.keras.applications import InceptionV3\n",
    "from tensorflow.keras.models import Model\n",
    "from tensorflow.keras.layers import Dropout, Input, Flatten, Dense, MaxPooling2D\n",
    "from tensorflow.keras.optimizers import Adam\n",
    "from tensorflow.keras.preprocessing.image import ImageDataGenerator"
   ]
  },
  {
   "cell_type": "code",
   "execution_count": 4,
   "id": "6d130db7",
   "metadata": {},
   "outputs": [
    {
     "name": "stdout",
     "output_type": "stream",
     "text": [
      "Found 61519 images belonging to 2 classes.\n",
      "Found 15379 images belonging to 2 classes.\n"
     ]
    }
   ],
   "source": [
    "train_data = train_datagen.flow_from_directory(r'C:\\Users\\Avinash\\Desktop\\Major_Project\\Drowsiness_detection\\mrlEyes_2018_01\\Prepared_Data\\train', target_size=(80,80), batch_size=batchsize, class_mode='categorical', subset='training')\n",
    "\n",
    "validation_data = train_datagen.flow_from_directory(r'C:\\Users\\Avinash\\Desktop\\Major_Project\\Drowsiness_detection\\mrlEyes_2018_01\\Prepared_Data\\train', target_size=(80,80), batch_size=batchsize, class_mode='categorical', subset='validation')"
   ]
  },
  {
   "cell_type": "code",
   "execution_count": 3,
   "id": "de782e81",
   "metadata": {},
   "outputs": [
    {
     "name": "stdout",
     "output_type": "stream",
     "text": [
      "Found 8000 images belonging to 2 classes.\n"
     ]
    }
   ],
   "source": [
    "test_datagen = ImageDataGenerator(rescale=1./255)\n",
    "\n",
    "test_data = test_datagen.flow_from_directory(r'C:\\Users\\Avinash\\Desktop\\Major_Project\\Drowsiness_detection\\mrlEyes_2018_01\\Prepared_Data\\test', target_size=(80,80), batch_size=8, class_mode='categorical')\n"
   ]
  },
  {
   "cell_type": "code",
   "execution_count": 14,
   "id": "9629d133",
   "metadata": {},
   "outputs": [
    {
     "name": "stdout",
     "output_type": "stream",
     "text": [
      "WARNING:tensorflow:`input_shape` is undefined or non-square, or `rows` is not in [96, 128, 160, 192, 224]. Weights for input shape (224, 224) will be loaded as the default.\n"
     ]
    },
    {
     "name": "stderr",
     "output_type": "stream",
     "text": [
      "WARNING:tensorflow:`input_shape` is undefined or non-square, or `rows` is not in [96, 128, 160, 192, 224]. Weights for input shape (224, 224) will be loaded as the default.\n"
     ]
    }
   ],
   "source": [
    "from tensorflow.keras.applications import MobileNetV2\n",
    "\n",
    "base_model = MobileNetV2(include_top=False, weights='imagenet', input_tensor=Input(shape=(80, 80, 3)))\n"
   ]
  },
  {
   "cell_type": "code",
   "execution_count": 15,
   "id": "b5d96915",
   "metadata": {},
   "outputs": [],
   "source": [
    "hmodel = base_model.output"
   ]
  },
  {
   "cell_type": "code",
   "execution_count": 16,
   "id": "d8412ab7",
   "metadata": {},
   "outputs": [
    {
     "name": "stderr",
     "output_type": "stream",
     "text": [
      "WARNING:absl:`lr` is deprecated in Keras optimizer, please use `learning_rate` or use the legacy optimizer, e.g.,tf.keras.optimizers.legacy.Adam.\n"
     ]
    }
   ],
   "source": [
    "from tensorflow.keras.layers import Flatten, Dense, Dropout, GlobalAveragePooling2D\n",
    "\n",
    "# Remove the existing custom layers\n",
    "# Adjust the following lines based on your MobileNetV2-based model\n",
    "\n",
    "hmodel = GlobalAveragePooling2D()(hmodel)  # Use GlobalAveragePooling2D for MobileNetV2\n",
    "hmodel = Dense(64, activation='relu')(hmodel)\n",
    "hmodel = Dropout(0.5)(hmodel)\n",
    "hmodel = Dense(2, activation='softmax')(hmodel)  # Assuming 2 output classes\n",
    "\n",
    "# Create the drowsiness detection model\n",
    "model = Model(inputs=base_model.input, outputs=hmodel)\n",
    "\n",
    "# Freeze the layers of the base model\n",
    "for layer in base_model.layers:\n",
    "    layer.trainable = False\n",
    "\n",
    "# Compile the model with the appropriate optimizer, loss, and metrics\n",
    "model.compile(\n",
    "    optimizer=Adam(lr=0.001),  # Adjust the learning rate as needed\n",
    "    loss='categorical_crossentropy',  # Change the loss function based on your task\n",
    "    metrics=['accuracy']\n",
    ")\n"
   ]
  },
  {
   "cell_type": "code",
   "execution_count": 18,
   "id": "3796e788",
   "metadata": {},
   "outputs": [],
   "source": [
    "from tensorflow.keras.callbacks import ModelCheckpoint, EarlyStopping, ReduceLROnPlateau"
   ]
  },
  {
   "cell_type": "code",
   "execution_count": 21,
   "id": "9408f552",
   "metadata": {},
   "outputs": [],
   "source": [
    "checkpoint = ModelCheckpoint(r'C:\\Users\\Avinash\\Desktop\\Major_Project\\Drowsiness_detection\\Model2\\model.h5', monitor='val_loss', save_best_only = True, verbose=3)\n",
    "2\n",
    "earlystop = EarlyStopping(monitor = 'val_loss', patience=7, verbose=3, restore_best_weights=True)\n",
    "\n",
    "learning_rate = ReduceLROnPlateau(monitor = 'val_loss', patience=3, verbose=3)\n",
    "\n",
    "callbacks = [checkpoint, earlystop, learning_rate]"
   ]
  },
  {
   "cell_type": "code",
   "execution_count": 22,
   "id": "79cc66e8",
   "metadata": {},
   "outputs": [
    {
     "name": "stdout",
     "output_type": "stream",
     "text": [
      "Epoch 1/50\n",
      "7689/7690 [============================>.] - ETA: 0s - loss: 0.2459 - accuracy: 0.9021\n",
      "Epoch 1: val_loss improved from inf to 0.32961, saving model to C:\\Users\\Avinash\\Desktop\\Major_Project\\Drowsiness_detection\\Model2\\model.h5\n"
     ]
    },
    {
     "name": "stderr",
     "output_type": "stream",
     "text": [
      "C:\\Users\\Avinash\\miniconda3\\Lib\\site-packages\\keras\\src\\engine\\training.py:3000: UserWarning: You are saving your model as an HDF5 file via `model.save()`. This file format is considered legacy. We recommend using instead the native Keras format, e.g. `model.save('my_model.keras')`.\n",
      "  saving_api.save_model(\n"
     ]
    },
    {
     "name": "stdout",
     "output_type": "stream",
     "text": [
      "7690/7690 [==============================] - 503s 64ms/step - loss: 0.2459 - accuracy: 0.9020 - val_loss: 0.3296 - val_accuracy: 0.8408 - lr: 0.0010\n",
      "Epoch 2/50\n",
      "7689/7690 [============================>.] - ETA: 0s - loss: 0.2021 - accuracy: 0.9203\n",
      "Epoch 2: val_loss improved from 0.32961 to 0.27870, saving model to C:\\Users\\Avinash\\Desktop\\Major_Project\\Drowsiness_detection\\Model2\\model.h5\n",
      "7690/7690 [==============================] - 492s 64ms/step - loss: 0.2021 - accuracy: 0.9203 - val_loss: 0.2787 - val_accuracy: 0.8802 - lr: 0.0010\n",
      "Epoch 3/50\n",
      "7690/7690 [==============================] - ETA: 0s - loss: 0.1919 - accuracy: 0.9232\n",
      "Epoch 3: val_loss did not improve from 0.27870\n",
      "7690/7690 [==============================] - 486s 63ms/step - loss: 0.1919 - accuracy: 0.9232 - val_loss: 0.3568 - val_accuracy: 0.8550 - lr: 0.0010\n",
      "Epoch 4/50\n",
      "7689/7690 [============================>.] - ETA: 0s - loss: 0.1821 - accuracy: 0.9272\n",
      "Epoch 4: val_loss did not improve from 0.27870\n",
      "7690/7690 [==============================] - 479s 62ms/step - loss: 0.1821 - accuracy: 0.9272 - val_loss: 0.3086 - val_accuracy: 0.8704 - lr: 0.0010\n",
      "Epoch 5/50\n",
      "7690/7690 [==============================] - ETA: 0s - loss: 0.1705 - accuracy: 0.9325\n",
      "Epoch 5: val_loss did not improve from 0.27870\n",
      "\n",
      "Epoch 5: ReduceLROnPlateau reducing learning rate to 0.00010000000474974513.\n",
      "7690/7690 [==============================] - 485s 63ms/step - loss: 0.1705 - accuracy: 0.9325 - val_loss: 0.3618 - val_accuracy: 0.8271 - lr: 0.0010\n",
      "Epoch 6/50\n",
      "7689/7690 [============================>.] - ETA: 0s - loss: 0.1494 - accuracy: 0.9411\n",
      "Epoch 6: val_loss did not improve from 0.27870\n",
      "7690/7690 [==============================] - 495s 64ms/step - loss: 0.1494 - accuracy: 0.9411 - val_loss: 0.3583 - val_accuracy: 0.8401 - lr: 1.0000e-04\n",
      "Epoch 7/50\n",
      "7690/7690 [==============================] - ETA: 0s - loss: 0.1493 - accuracy: 0.9416\n",
      "Epoch 7: val_loss did not improve from 0.27870\n",
      "7690/7690 [==============================] - 285s 37ms/step - loss: 0.1493 - accuracy: 0.9416 - val_loss: 0.3541 - val_accuracy: 0.8462 - lr: 1.0000e-04\n",
      "Epoch 8/50\n",
      "7689/7690 [============================>.] - ETA: 0s - loss: 0.1454 - accuracy: 0.9439\n",
      "Epoch 8: val_loss did not improve from 0.27870\n",
      "\n",
      "Epoch 8: ReduceLROnPlateau reducing learning rate to 1.0000000474974514e-05.\n",
      "7690/7690 [==============================] - 286s 37ms/step - loss: 0.1454 - accuracy: 0.9439 - val_loss: 0.3561 - val_accuracy: 0.8461 - lr: 1.0000e-04\n",
      "Epoch 9/50\n",
      "7690/7690 [==============================] - ETA: 0s - loss: 0.1429 - accuracy: 0.9446\n",
      "Epoch 9: val_loss did not improve from 0.27870\n",
      "Restoring model weights from the end of the best epoch: 2.\n",
      "7690/7690 [==============================] - 282s 37ms/step - loss: 0.1429 - accuracy: 0.9446 - val_loss: 0.3520 - val_accuracy: 0.8476 - lr: 1.0000e-05\n",
      "Epoch 9: early stopping\n"
     ]
    },
    {
     "data": {
      "text/plain": [
       "<keras.src.callbacks.History at 0x2a8c125a710>"
      ]
     },
     "execution_count": 22,
     "metadata": {},
     "output_type": "execute_result"
    }
   ],
   "source": [
    "from tensorflow.keras.optimizers import Adam\n",
    "\n",
    "optimizer = Adam(learning_rate=0.001)\n",
    "\n",
    "model.compile(optimizer=optimizer, loss='binary_crossentropy', metrics=['accuracy'])\n",
    "\n",
    "model.fit(\n",
    "    train_data,\n",
    "    validation_data=validation_data,\n",
    "    validation_steps=validation_data.samples // batchsize,\n",
    "    callbacks=callbacks,\n",
    "    epochs=50\n",
    ")"
   ]
  },
  {
   "cell_type": "markdown",
   "id": "22de4db8",
   "metadata": {},
   "source": [
    "# Model Evaluation"
   ]
  },
  {
   "cell_type": "code",
   "execution_count": 4,
   "id": "533bfbd2",
   "metadata": {},
   "outputs": [],
   "source": [
    "from tensorflow.keras.models import load_model\n",
    "saved_model = load_model(r\"C:\\Users\\Avinash\\Desktop\\Major_Project\\Drowsiness_detection\\Model2\\model.h5\")\n"
   ]
  },
  {
   "cell_type": "code",
   "execution_count": 5,
   "id": "3a8d7b7b",
   "metadata": {},
   "outputs": [
    {
     "name": "stdout",
     "output_type": "stream",
     "text": [
      "1000/1000 [==============================] - 28s 27ms/step - loss: 0.3319 - accuracy: 0.8553\n",
      "Test Accuracy: 85.53%\n"
     ]
    }
   ],
   "source": [
    "test_accuracy = saved_model.evaluate(test_data)[1]\n",
    "print(\"Test Accuracy: {:.2f}%\".format(test_accuracy * 100))"
   ]
  },
  {
   "cell_type": "code",
   "execution_count": 8,
   "id": "9b7370cb",
   "metadata": {},
   "outputs": [
    {
     "name": "stdout",
     "output_type": "stream",
     "text": [
      "Found 8000 images belonging to 2 classes.\n",
      "1000/1000 [==============================] - 27s 26ms/step\n",
      "Confusion Matrix:\n",
      " [[3902   98]\n",
      " [1060 2940]]\n",
      "Classification Report:\n",
      "               precision    recall  f1-score   support\n",
      "\n",
      "  Close_Eyes       0.79      0.98      0.87      4000\n",
      "   Open_Eyes       0.97      0.73      0.84      4000\n",
      "\n",
      "    accuracy                           0.86      8000\n",
      "   macro avg       0.88      0.86      0.85      8000\n",
      "weighted avg       0.88      0.86      0.85      8000\n",
      "\n"
     ]
    }
   ],
   "source": [
    "from tensorflow.keras.models import load_model\n",
    "from tensorflow.keras.preprocessing.image import ImageDataGenerator\n",
    "from sklearn.metrics import confusion_matrix, classification_report  # Import confusion_matrix\n",
    "\n",
    "# Load the saved model\n",
    "saved_model = load_model(r\"C:\\Users\\Avinash\\Desktop\\Major_Project\\Drowsiness_detection\\Model2\\model.h5\")\n",
    "\n",
    "# Define the test data generator\n",
    "test_datagen = ImageDataGenerator(rescale=1./255)\n",
    "\n",
    "test_data = test_datagen.flow_from_directory(\n",
    "    r'C:\\Users\\Avinash\\Desktop\\Major_Project\\Drowsiness_detection\\mrlEyes_2018_01\\Prepared_Data\\test',\n",
    "    target_size=(80, 80),\n",
    "    batch_size=8,\n",
    "    class_mode='categorical',\n",
    "    shuffle=False  # Set shuffle to False to maintain order for the labels\n",
    ")\n",
    "\n",
    "# Use the model to make predictions on the test data\n",
    "y_pred = saved_model.predict(test_data)\n",
    "\n",
    "# Obtain the true labels from the directory structure\n",
    "# The class labels are inferred from the subdirectories in your test directory\n",
    "# You can use the class_indices attribute to map class labels to their corresponding subdirectories\n",
    "true_labels = (test_data.class_indices.keys())\n",
    "\n",
    "# Calculate confusion matrix and classification report\n",
    "# Assuming you have true labels as subdirectories in your test directory\n",
    "confusion = confusion_matrix(test_data.classes, y_pred.argmax(axis=1))\n",
    "classification_rep = classification_report(test_data.classes, y_pred.argmax(axis=1), target_names=true_labels)\n",
    "\n",
    "print(\"Confusion Matrix:\\n\", confusion)\n",
    "print(\"Classification Report:\\n\", classification_rep)\n"
   ]
  }
 ],
 "metadata": {
  "kernelspec": {
   "display_name": "Python 3 (ipykernel)",
   "language": "python",
   "name": "python3"
  },
  "language_info": {
   "codemirror_mode": {
    "name": "ipython",
    "version": 3
   },
   "file_extension": ".py",
   "mimetype": "text/x-python",
   "name": "python",
   "nbconvert_exporter": "python",
   "pygments_lexer": "ipython3",
   "version": "3.11.4"
  }
 },
 "nbformat": 4,
 "nbformat_minor": 5
}

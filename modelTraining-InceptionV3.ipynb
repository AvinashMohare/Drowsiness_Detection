{
 "cells": [
  {
   "cell_type": "code",
   "execution_count": 1,
   "id": "b8be0909",
   "metadata": {},
   "outputs": [
    {
     "name": "stdout",
     "output_type": "stream",
     "text": [
      "Requirement already satisfied: tensorflow in c:\\users\\avinash\\miniconda3\\lib\\site-packages (2.13.0)\n",
      "Requirement already satisfied: tensorflow-intel==2.13.0 in c:\\users\\avinash\\miniconda3\\lib\\site-packages (from tensorflow) (2.13.0)\n",
      "Requirement already satisfied: absl-py>=1.0.0 in c:\\users\\avinash\\miniconda3\\lib\\site-packages (from tensorflow-intel==2.13.0->tensorflow) (1.4.0)\n",
      "Requirement already satisfied: astunparse>=1.6.0 in c:\\users\\avinash\\miniconda3\\lib\\site-packages (from tensorflow-intel==2.13.0->tensorflow) (1.6.3)\n",
      "Requirement already satisfied: flatbuffers>=23.1.21 in c:\\users\\avinash\\miniconda3\\lib\\site-packages (from tensorflow-intel==2.13.0->tensorflow) (23.5.26)\n",
      "Requirement already satisfied: gast<=0.4.0,>=0.2.1 in c:\\users\\avinash\\miniconda3\\lib\\site-packages (from tensorflow-intel==2.13.0->tensorflow) (0.4.0)\n",
      "Requirement already satisfied: google-pasta>=0.1.1 in c:\\users\\avinash\\miniconda3\\lib\\site-packages (from tensorflow-intel==2.13.0->tensorflow) (0.2.0)\n",
      "Requirement already satisfied: h5py>=2.9.0 in c:\\users\\avinash\\miniconda3\\lib\\site-packages (from tensorflow-intel==2.13.0->tensorflow) (3.9.0)\n",
      "Requirement already satisfied: libclang>=13.0.0 in c:\\users\\avinash\\miniconda3\\lib\\site-packages (from tensorflow-intel==2.13.0->tensorflow) (16.0.6)\n",
      "Requirement already satisfied: numpy<=1.24.3,>=1.22 in c:\\users\\avinash\\miniconda3\\lib\\site-packages (from tensorflow-intel==2.13.0->tensorflow) (1.24.3)\n",
      "Requirement already satisfied: opt-einsum>=2.3.2 in c:\\users\\avinash\\miniconda3\\lib\\site-packages (from tensorflow-intel==2.13.0->tensorflow) (3.3.0)\n",
      "Requirement already satisfied: packaging in c:\\users\\avinash\\miniconda3\\lib\\site-packages (from tensorflow-intel==2.13.0->tensorflow) (23.0)\n",
      "Requirement already satisfied: protobuf!=4.21.0,!=4.21.1,!=4.21.2,!=4.21.3,!=4.21.4,!=4.21.5,<5.0.0dev,>=3.20.3 in c:\\users\\avinash\\miniconda3\\lib\\site-packages (from tensorflow-intel==2.13.0->tensorflow) (4.24.0)\n",
      "Requirement already satisfied: setuptools in c:\\users\\avinash\\miniconda3\\lib\\site-packages (from tensorflow-intel==2.13.0->tensorflow) (67.8.0)\n",
      "Requirement already satisfied: six>=1.12.0 in c:\\users\\avinash\\miniconda3\\lib\\site-packages (from tensorflow-intel==2.13.0->tensorflow) (1.16.0)\n",
      "Requirement already satisfied: termcolor>=1.1.0 in c:\\users\\avinash\\miniconda3\\lib\\site-packages (from tensorflow-intel==2.13.0->tensorflow) (2.3.0)\n",
      "Requirement already satisfied: typing-extensions<4.6.0,>=3.6.6 in c:\\users\\avinash\\miniconda3\\lib\\site-packages (from tensorflow-intel==2.13.0->tensorflow) (4.5.0)\n",
      "Requirement already satisfied: wrapt>=1.11.0 in c:\\users\\avinash\\miniconda3\\lib\\site-packages (from tensorflow-intel==2.13.0->tensorflow) (1.15.0)\n",
      "Requirement already satisfied: grpcio<2.0,>=1.24.3 in c:\\users\\avinash\\miniconda3\\lib\\site-packages (from tensorflow-intel==2.13.0->tensorflow) (1.57.0)\n",
      "Requirement already satisfied: tensorboard<2.14,>=2.13 in c:\\users\\avinash\\miniconda3\\lib\\site-packages (from tensorflow-intel==2.13.0->tensorflow) (2.13.0)\n",
      "Requirement already satisfied: tensorflow-estimator<2.14,>=2.13.0 in c:\\users\\avinash\\miniconda3\\lib\\site-packages (from tensorflow-intel==2.13.0->tensorflow) (2.13.0)\n",
      "Requirement already satisfied: keras<2.14,>=2.13.1 in c:\\users\\avinash\\miniconda3\\lib\\site-packages (from tensorflow-intel==2.13.0->tensorflow) (2.13.1)\n",
      "Requirement already satisfied: tensorflow-io-gcs-filesystem>=0.23.1 in c:\\users\\avinash\\miniconda3\\lib\\site-packages (from tensorflow-intel==2.13.0->tensorflow) (0.31.0)\n",
      "Requirement already satisfied: wheel<1.0,>=0.23.0 in c:\\users\\avinash\\miniconda3\\lib\\site-packages (from astunparse>=1.6.0->tensorflow-intel==2.13.0->tensorflow) (0.38.4)\n",
      "Requirement already satisfied: google-auth<3,>=1.6.3 in c:\\users\\avinash\\miniconda3\\lib\\site-packages (from tensorboard<2.14,>=2.13->tensorflow-intel==2.13.0->tensorflow) (2.22.0)\n",
      "Requirement already satisfied: google-auth-oauthlib<1.1,>=0.5 in c:\\users\\avinash\\miniconda3\\lib\\site-packages (from tensorboard<2.14,>=2.13->tensorflow-intel==2.13.0->tensorflow) (1.0.0)\n",
      "Requirement already satisfied: markdown>=2.6.8 in c:\\users\\avinash\\miniconda3\\lib\\site-packages (from tensorboard<2.14,>=2.13->tensorflow-intel==2.13.0->tensorflow) (3.4.4)\n",
      "Requirement already satisfied: requests<3,>=2.21.0 in c:\\users\\avinash\\miniconda3\\lib\\site-packages (from tensorboard<2.14,>=2.13->tensorflow-intel==2.13.0->tensorflow) (2.29.0)\n",
      "Requirement already satisfied: tensorboard-data-server<0.8.0,>=0.7.0 in c:\\users\\avinash\\miniconda3\\lib\\site-packages (from tensorboard<2.14,>=2.13->tensorflow-intel==2.13.0->tensorflow) (0.7.1)\n",
      "Requirement already satisfied: werkzeug>=1.0.1 in c:\\users\\avinash\\miniconda3\\lib\\site-packages (from tensorboard<2.14,>=2.13->tensorflow-intel==2.13.0->tensorflow) (2.3.6)\n",
      "Requirement already satisfied: cachetools<6.0,>=2.0.0 in c:\\users\\avinash\\miniconda3\\lib\\site-packages (from google-auth<3,>=1.6.3->tensorboard<2.14,>=2.13->tensorflow-intel==2.13.0->tensorflow) (5.3.1)\n",
      "Requirement already satisfied: pyasn1-modules>=0.2.1 in c:\\users\\avinash\\miniconda3\\lib\\site-packages (from google-auth<3,>=1.6.3->tensorboard<2.14,>=2.13->tensorflow-intel==2.13.0->tensorflow) (0.3.0)\n",
      "Requirement already satisfied: rsa<5,>=3.1.4 in c:\\users\\avinash\\miniconda3\\lib\\site-packages (from google-auth<3,>=1.6.3->tensorboard<2.14,>=2.13->tensorflow-intel==2.13.0->tensorflow) (4.9)\n",
      "Requirement already satisfied: urllib3<2.0 in c:\\users\\avinash\\miniconda3\\lib\\site-packages (from google-auth<3,>=1.6.3->tensorboard<2.14,>=2.13->tensorflow-intel==2.13.0->tensorflow) (1.26.16)\n",
      "Requirement already satisfied: requests-oauthlib>=0.7.0 in c:\\users\\avinash\\miniconda3\\lib\\site-packages (from google-auth-oauthlib<1.1,>=0.5->tensorboard<2.14,>=2.13->tensorflow-intel==2.13.0->tensorflow) (1.3.1)\n",
      "Requirement already satisfied: charset-normalizer<4,>=2 in c:\\users\\avinash\\miniconda3\\lib\\site-packages (from requests<3,>=2.21.0->tensorboard<2.14,>=2.13->tensorflow-intel==2.13.0->tensorflow) (2.0.4)\n",
      "Requirement already satisfied: idna<4,>=2.5 in c:\\users\\avinash\\miniconda3\\lib\\site-packages (from requests<3,>=2.21.0->tensorboard<2.14,>=2.13->tensorflow-intel==2.13.0->tensorflow) (3.4)\n",
      "Requirement already satisfied: certifi>=2017.4.17 in c:\\users\\avinash\\miniconda3\\lib\\site-packages (from requests<3,>=2.21.0->tensorboard<2.14,>=2.13->tensorflow-intel==2.13.0->tensorflow) (2023.7.22)\n",
      "Requirement already satisfied: MarkupSafe>=2.1.1 in c:\\users\\avinash\\miniconda3\\lib\\site-packages (from werkzeug>=1.0.1->tensorboard<2.14,>=2.13->tensorflow-intel==2.13.0->tensorflow) (2.1.1)\n",
      "Requirement already satisfied: pyasn1<0.6.0,>=0.4.6 in c:\\users\\avinash\\miniconda3\\lib\\site-packages (from pyasn1-modules>=0.2.1->google-auth<3,>=1.6.3->tensorboard<2.14,>=2.13->tensorflow-intel==2.13.0->tensorflow) (0.5.0)\n",
      "Requirement already satisfied: oauthlib>=3.0.0 in c:\\users\\avinash\\miniconda3\\lib\\site-packages (from requests-oauthlib>=0.7.0->google-auth-oauthlib<1.1,>=0.5->tensorboard<2.14,>=2.13->tensorflow-intel==2.13.0->tensorflow) (3.2.2)\n",
      "Note: you may need to restart the kernel to use updated packages.\n"
     ]
    }
   ],
   "source": [
    "pip install tensorflow "
   ]
  },
  {
   "cell_type": "code",
   "execution_count": 4,
   "id": "2e7679ca",
   "metadata": {},
   "outputs": [],
   "source": [
    "import tensorflow as tf\n",
    "from tensorflow.keras.applications import InceptionV3\n",
    "from tensorflow.keras.models import Model\n",
    "from tensorflow.keras.layers import Dropout, Input, Flatten, Dense, MaxPooling2D\n",
    "from tensorflow.keras.optimizers import Adam\n",
    "from tensorflow.keras.preprocessing.image import ImageDataGenerator"
   ]
  },
  {
   "cell_type": "markdown",
   "id": "2c9b4481",
   "metadata": {},
   "source": [
    "# Train Data Generation \n"
   ]
  },
  {
   "cell_type": "code",
   "execution_count": 5,
   "id": "49a73435",
   "metadata": {},
   "outputs": [],
   "source": [
    "batchsize = 8 "
   ]
  },
  {
   "cell_type": "code",
   "execution_count": 6,
   "id": "4c75dcbf",
   "metadata": {},
   "outputs": [],
   "source": [
    "train_datagen = ImageDataGenerator(rescale=1./255, rotation_range=0.2, shear_range=0.2, zoom_range=0.2, width_shift_range=0.2, height_shift_range=0.2, validation_split=0.2)"
   ]
  },
  {
   "cell_type": "code",
   "execution_count": 7,
   "id": "dabd6c64",
   "metadata": {},
   "outputs": [
    {
     "name": "stdout",
     "output_type": "stream",
     "text": [
      "Found 61519 images belonging to 2 classes.\n",
      "Found 15379 images belonging to 2 classes.\n"
     ]
    }
   ],
   "source": [
    "train_data = train_datagen.flow_from_directory(r'C:\\Users\\Avinash\\Desktop\\Major_Project\\Drowsiness_detection\\mrlEyes_2018_01\\Prepared_Data\\train', target_size=(80,80), batch_size=batchsize, class_mode='categorical', subset='training')\n",
    "\n",
    "validation_data = train_datagen.flow_from_directory(r'C:\\Users\\Avinash\\Desktop\\Major_Project\\Drowsiness_detection\\mrlEyes_2018_01\\Prepared_Data\\train', target_size=(80,80), batch_size=batchsize, class_mode='categorical', subset='validation')"
   ]
  },
  {
   "cell_type": "markdown",
   "id": "9e010d63",
   "metadata": {},
   "source": [
    "# Test Data Generation"
   ]
  },
  {
   "cell_type": "code",
   "execution_count": 19,
   "id": "f2b5ef20",
   "metadata": {},
   "outputs": [
    {
     "name": "stdout",
     "output_type": "stream",
     "text": [
      "Found 8000 images belonging to 2 classes.\n"
     ]
    }
   ],
   "source": [
    "test_datagen = ImageDataGenerator(rescale=1./255)\n",
    "\n",
    "test_data = test_datagen.flow_from_directory(r'C:\\Users\\Avinash\\Desktop\\Major_Project\\Drowsiness_detection\\mrlEyes_2018_01\\Prepared_Data\\test', target_size=(80,80), batch_size=8, class_mode='categorical')"
   ]
  },
  {
   "cell_type": "markdown",
   "id": "25ce6427",
   "metadata": {},
   "source": [
    "# Import Base Model"
   ]
  },
  {
   "cell_type": "code",
   "execution_count": 9,
   "id": "d1f304d5",
   "metadata": {},
   "outputs": [],
   "source": [
    "bmodel = InceptionV3(include_top=False, weights='imagenet', input_tensor=Input(shape=(80,80,3)))"
   ]
  },
  {
   "cell_type": "markdown",
   "id": "497d0599",
   "metadata": {},
   "source": [
    "# Import higher Model"
   ]
  },
  {
   "cell_type": "code",
   "execution_count": 10,
   "id": "88f0f4ea",
   "metadata": {},
   "outputs": [],
   "source": [
    "hmodel = bmodel.output"
   ]
  },
  {
   "cell_type": "code",
   "execution_count": 11,
   "id": "e59bed76",
   "metadata": {},
   "outputs": [],
   "source": [
    "hmodel = Flatten()(hmodel)\n",
    "hmodel = Dense(64, activation='relu')(hmodel)\n",
    "hmodel = Dropout(0.5)(hmodel)\n",
    "hmodel = Dense(2,activation='softmax')(hmodel)\n",
    "\n",
    "model = Model(inputs=bmodel.input, outputs = hmodel)\n",
    "for layer in bmodel.layers:\n",
    "    layer.trainable = False"
   ]
  },
  {
   "cell_type": "code",
   "execution_count": 11,
   "id": "032166d4",
   "metadata": {},
   "outputs": [],
   "source": [
    "from tensorflow.keras.callbacks import ModelCheckpoint, EarlyStopping, ReduceLROnPlateau"
   ]
  },
  {
   "cell_type": "code",
   "execution_count": 11,
   "id": "e48c2efa",
   "metadata": {},
   "outputs": [],
   "source": [
    "checkpoint = ModelCheckpoint(r'C:\\Users\\Avinash\\Desktop\\Major_Project\\Drowsiness_detection\\Model\\model.h5', monitor='val_loss', save_best_only = True, verbose=3)\n",
    "\n",
    "earlystop = EarlyStopping(monitor = 'val_loss', patience=7, verbose=3, restore_best_weights=True)\n",
    "\n",
    "learning_rate = ReduceLROnPlateau(monitor = 'val_loss', patience=3, verbose=3)\n",
    "\n",
    "callbacks = [checkpoint, earlystop, learning_rate]"
   ]
  },
  {
   "cell_type": "code",
   "execution_count": 2,
   "id": "abf892fc",
   "metadata": {},
   "outputs": [
    {
     "name": "stdout",
     "output_type": "stream",
     "text": [
      "Requirement already satisfied: Pillow in c:\\users\\avinash\\miniconda3\\lib\\site-packages (10.0.0)\n",
      "Note: you may need to restart the kernel to use updated packages.\n"
     ]
    }
   ],
   "source": [
    "pip install Pillow"
   ]
  },
  {
   "cell_type": "code",
   "execution_count": 20,
   "id": "df06ebfe",
   "metadata": {},
   "outputs": [
    {
     "name": "stdout",
     "output_type": "stream",
     "text": [
      "Requirement already satisfied: scipy in c:\\users\\avinash\\miniconda3\\lib\\site-packages (1.11.2)\n",
      "Requirement already satisfied: numpy<1.28.0,>=1.21.6 in c:\\users\\avinash\\miniconda3\\lib\\site-packages (from scipy) (1.24.3)\n",
      "Note: you may need to restart the kernel to use updated packages.\n"
     ]
    }
   ],
   "source": [
    "pip install scipy"
   ]
  },
  {
   "cell_type": "code",
   "execution_count": 13,
   "id": "cb375628",
   "metadata": {},
   "outputs": [
    {
     "name": "stdout",
     "output_type": "stream",
     "text": [
      "Epoch 1/50\n",
      "7688/7689 [============================>.] - ETA: 0s - loss: 0.2094 - accuracy: 0.9188\n",
      "Epoch 1: val_loss improved from inf to 0.21339, saving model to C:\\Users\\Avinash\\Desktop\\Major_Project\\Drowsiness_detection\\Model\\model.h5\n"
     ]
    },
    {
     "name": "stderr",
     "output_type": "stream",
     "text": [
      "C:\\Users\\Avinash\\miniconda3\\Lib\\site-packages\\keras\\src\\engine\\training.py:3000: UserWarning: You are saving your model as an HDF5 file via `model.save()`. This file format is considered legacy. We recommend using instead the native Keras format, e.g. `model.save('my_model.keras')`.\n",
      "  saving_api.save_model(\n"
     ]
    },
    {
     "name": "stdout",
     "output_type": "stream",
     "text": [
      "7689/7689 [==============================] - 418s 54ms/step - loss: 0.2093 - accuracy: 0.9188 - val_loss: 0.2134 - val_accuracy: 0.9106 - lr: 0.0010\n",
      "Epoch 2/50\n",
      "7689/7689 [==============================] - ETA: 0s - loss: 0.1804 - accuracy: 0.9304\n",
      "Epoch 2: val_loss improved from 0.21339 to 0.18715, saving model to C:\\Users\\Avinash\\Desktop\\Major_Project\\Drowsiness_detection\\Model\\model.h5\n",
      "7689/7689 [==============================] - 409s 53ms/step - loss: 0.1804 - accuracy: 0.9304 - val_loss: 0.1871 - val_accuracy: 0.9206 - lr: 0.0010\n",
      "Epoch 3/50\n",
      "7689/7689 [==============================] - ETA: 0s - loss: 0.1719 - accuracy: 0.9332\n",
      "Epoch 3: val_loss did not improve from 0.18715\n",
      "7689/7689 [==============================] - 416s 54ms/step - loss: 0.1719 - accuracy: 0.9332 - val_loss: 0.1975 - val_accuracy: 0.9216 - lr: 0.0010\n",
      "Epoch 4/50\n",
      "7689/7689 [==============================] - ETA: 0s - loss: 0.1631 - accuracy: 0.9372\n",
      "Epoch 4: val_loss did not improve from 0.18715\n",
      "7689/7689 [==============================] - 420s 55ms/step - loss: 0.1631 - accuracy: 0.9372 - val_loss: 0.1907 - val_accuracy: 0.9251 - lr: 0.0010\n",
      "Epoch 5/50\n",
      "7689/7689 [==============================] - ETA: 0s - loss: 0.1593 - accuracy: 0.9386\n",
      "Epoch 5: val_loss improved from 0.18715 to 0.18534, saving model to C:\\Users\\Avinash\\Desktop\\Major_Project\\Drowsiness_detection\\Model\\model.h5\n",
      "7689/7689 [==============================] - 438s 57ms/step - loss: 0.1593 - accuracy: 0.9386 - val_loss: 0.1853 - val_accuracy: 0.9318 - lr: 0.0010\n",
      "Epoch 6/50\n",
      "7689/7689 [==============================] - ETA: 0s - loss: 0.1586 - accuracy: 0.9398\n",
      "Epoch 6: val_loss did not improve from 0.18534\n",
      "7689/7689 [==============================] - 423s 55ms/step - loss: 0.1586 - accuracy: 0.9398 - val_loss: 0.1864 - val_accuracy: 0.9262 - lr: 0.0010\n",
      "Epoch 7/50\n",
      "7688/7689 [============================>.] - ETA: 0s - loss: 0.1559 - accuracy: 0.9403\n",
      "Epoch 7: val_loss did not improve from 0.18534\n",
      "7689/7689 [==============================] - 495s 64ms/step - loss: 0.1559 - accuracy: 0.9403 - val_loss: 0.1955 - val_accuracy: 0.9242 - lr: 0.0010\n",
      "Epoch 8/50\n",
      "7689/7689 [==============================] - ETA: 0s - loss: 0.1559 - accuracy: 0.9412\n",
      "Epoch 8: val_loss did not improve from 0.18534\n",
      "\n",
      "Epoch 8: ReduceLROnPlateau reducing learning rate to 0.00010000000474974513.\n",
      "7689/7689 [==============================] - 406s 53ms/step - loss: 0.1559 - accuracy: 0.9412 - val_loss: 0.1885 - val_accuracy: 0.9277 - lr: 0.0010\n",
      "Epoch 9/50\n",
      "7689/7689 [==============================] - ETA: 0s - loss: 0.1445 - accuracy: 0.9450\n",
      "Epoch 9: val_loss did not improve from 0.18534\n",
      "7689/7689 [==============================] - 549s 71ms/step - loss: 0.1445 - accuracy: 0.9450 - val_loss: 0.1944 - val_accuracy: 0.9261 - lr: 1.0000e-04\n",
      "Epoch 10/50\n",
      "7689/7689 [==============================] - ETA: 0s - loss: 0.1423 - accuracy: 0.9466\n",
      "Epoch 10: val_loss did not improve from 0.18534\n",
      "7689/7689 [==============================] - 585s 76ms/step - loss: 0.1423 - accuracy: 0.9466 - val_loss: 0.1993 - val_accuracy: 0.9249 - lr: 1.0000e-04\n",
      "Epoch 11/50\n",
      "7689/7689 [==============================] - ETA: 0s - loss: 0.1401 - accuracy: 0.9486\n",
      "Epoch 11: val_loss did not improve from 0.18534\n",
      "\n",
      "Epoch 11: ReduceLROnPlateau reducing learning rate to 1.0000000474974514e-05.\n",
      "7689/7689 [==============================] - 576s 75ms/step - loss: 0.1401 - accuracy: 0.9486 - val_loss: 0.1926 - val_accuracy: 0.9249 - lr: 1.0000e-04\n",
      "Epoch 12/50\n",
      "7689/7689 [==============================] - ETA: 0s - loss: 0.1369 - accuracy: 0.9477\n",
      "Epoch 12: val_loss did not improve from 0.18534\n",
      "Restoring model weights from the end of the best epoch: 5.\n",
      "7689/7689 [==============================] - 577s 75ms/step - loss: 0.1369 - accuracy: 0.9477 - val_loss: 0.1926 - val_accuracy: 0.9237 - lr: 1.0000e-05\n",
      "Epoch 12: early stopping\n"
     ]
    },
    {
     "data": {
      "text/plain": [
       "<keras.src.callbacks.History at 0x232c5a4e790>"
      ]
     },
     "execution_count": 13,
     "metadata": {},
     "output_type": "execute_result"
    }
   ],
   "source": [
    "model.compile(optimizer='Adam', loss='categorical_crossentropy', metrics = ['accuracy'])\n",
    "\n",
    "model.fit(train_data, steps_per_epoch=train_data.samples//batchsize, validation_data = validation_data,\n",
    "                   validation_steps=validation_data.samples//batchsize,\n",
    "                   callbacks=callbacks,\n",
    "                   epochs = 50)"
   ]
  },
  {
   "cell_type": "markdown",
   "id": "094695b1",
   "metadata": {},
   "source": [
    "# Model Evaluation"
   ]
  },
  {
   "cell_type": "code",
   "execution_count": 13,
   "id": "670da96f",
   "metadata": {},
   "outputs": [],
   "source": [
    "from tensorflow.keras.models import load_model\n",
    "saved_model = load_model(r\"C:\\Users\\Avinash\\Desktop\\Major_Project\\Drowsiness_detection\\Model\\model.h5\")\n"
   ]
  },
  {
   "cell_type": "code",
   "execution_count": 20,
   "id": "33550ca0",
   "metadata": {},
   "outputs": [
    {
     "name": "stdout",
     "output_type": "stream",
     "text": [
      "1000/1000 [==============================] - 37s 37ms/step - loss: 0.3465 - accuracy: 0.8992\n",
      "Test Accuracy: 89.92%\n"
     ]
    }
   ],
   "source": [
    "test_accuracy = saved_model.evaluate(test_data)[1]\n",
    "print(\"Test Accuracy: {:.2f}%\".format(test_accuracy * 100))"
   ]
  },
  {
   "cell_type": "code",
   "execution_count": 26,
   "id": "1604a6c3",
   "metadata": {},
   "outputs": [
    {
     "name": "stdout",
     "output_type": "stream",
     "text": [
      "Found 8000 images belonging to 2 classes.\n",
      "1000/1000 [==============================] - 42s 41ms/step\n",
      "Confusion Matrix:\n",
      " [[3973   27]\n",
      " [ 779 3221]]\n",
      "Classification Report:\n",
      "               precision    recall  f1-score   support\n",
      "\n",
      "  Close_Eyes       0.84      0.99      0.91      4000\n",
      "   Open_Eyes       0.99      0.81      0.89      4000\n",
      "\n",
      "    accuracy                           0.90      8000\n",
      "   macro avg       0.91      0.90      0.90      8000\n",
      "weighted avg       0.91      0.90      0.90      8000\n",
      "\n"
     ]
    }
   ],
   "source": [
    "from tensorflow.keras.models import load_model\n",
    "from tensorflow.keras.preprocessing.image import ImageDataGenerator\n",
    "\n",
    "# Load the saved model\n",
    "saved_model = load_model(r\"C:\\Users\\Avinash\\Desktop\\Major_Project\\Drowsiness_detection\\Model\\model.h5\")\n",
    "\n",
    "# Define the test data generator\n",
    "test_datagen = ImageDataGenerator(rescale=1./255)\n",
    "\n",
    "test_data = test_datagen.flow_from_directory(\n",
    "    r'C:\\Users\\Avinash\\Desktop\\Major_Project\\Drowsiness_detection\\mrlEyes_2018_01\\Prepared_Data\\test',\n",
    "    target_size=(80, 80),\n",
    "    batch_size=8,\n",
    "    class_mode='categorical',\n",
    "    shuffle=False  # Set shuffle to False to maintain order for the labels\n",
    ")\n",
    "\n",
    "# Use the model to make predictions on the test data\n",
    "y_pred = saved_model.predict(test_data)\n",
    "\n",
    "# Obtain the true labels from the directory structure\n",
    "# The class labels are inferred from the subdirectories in your test directory\n",
    "# You can use the class_indices attribute to map class labels to their corresponding subdirectories\n",
    "true_labels = (test_data.class_indices.keys())\n",
    "\n",
    "# Calculate confusion matrix and classification report\n",
    "# Assuming you have true labels as subdirectories in your test directory\n",
    "confusion = confusion_matrix(test_data.classes, y_pred.argmax(axis=1))\n",
    "classification_rep = classification_report(test_data.classes, y_pred.argmax(axis=1), target_names=true_labels)\n",
    "\n",
    "print(\"Confusion Matrix:\\n\", confusion)\n",
    "print(\"Classification Report:\\n\", classification_rep)\n"
   ]
  }
 ],
 "metadata": {
  "kernelspec": {
   "display_name": "Python 3 (ipykernel)",
   "language": "python",
   "name": "python3"
  },
  "language_info": {
   "codemirror_mode": {
    "name": "ipython",
    "version": 3
   },
   "file_extension": ".py",
   "mimetype": "text/x-python",
   "name": "python",
   "nbconvert_exporter": "python",
   "pygments_lexer": "ipython3",
   "version": "3.11.4"
  }
 },
 "nbformat": 4,
 "nbformat_minor": 5
}
